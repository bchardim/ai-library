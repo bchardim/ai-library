{
 "cells": [
  {
   "cell_type": "code",
   "execution_count": 6,
   "metadata": {},
   "outputs": [
    {
     "name": "stdout",
     "output_type": "stream",
     "text": [
      "/tmp/tmpu43uu3ff/bots/images/data.jsonl\n",
      "Start Training ...\n",
      "Training complete!\n",
      "Found model : tests-learn-5-3.model\n",
      "Uploading model to: cchase/flake-old/models/sample.model\n",
      "Model upload to S3 backend Complete!\n"
     ]
    }
   ],
   "source": [
    "import os\n",
    "import boto3\n",
    "import json\n",
    "import tempfile\n",
    "\n",
    "# SET PARAMETERS TO ACCESS S3 BACKEND\n",
    "s3Path = 'PATH IN S3 BUCKET WHERE TRAINING RECORDS ARE STORED'\n",
    "s3Destination = 'PATH IN S3 BUCKET WHERE YOU WANT TO STORE THE TRAINED MODEL - INCLUDING MODEL NAME'\n",
    "s3endpointUrl = 'ENDPOINT URL TO ACCESS S3 BACKEND'\n",
    "s3objectStoreLocation = 'S3 BUCKET NAME'\n",
    "s3accessKey = 'S3 ACCESS KEY'\n",
    "s3secretKey = 'S3 SECRET KEY'\n",
    "\n",
    "# CREATE TEMP DIRECTORY TO DOWNLOAD DATA\n",
    "tmpdir = str(tempfile.mkdtemp())\n",
    "SOURCE_DIR = tmpdir + '/' + 'bots/images/'\n",
    "if not os.path.exists(SOURCE_DIR):\n",
    "   os.makedirs(SOURCE_DIR)\n",
    "if os.path.exists(tmpdir + \"/\" + \"bots/images/data.jsonl\"):\n",
    "   os.remove(tmpdir + \"/\" + \"bots/images/data.jsonl\")\n",
    "fname = tmpdir + \"/\" + 'bots/images/data.jsonl'\n",
    "print(fname)\n",
    "\n",
    "# CREATE CONNECTION TO S3 BACKEND\n",
    "session = boto3.Session(aws_access_key_id=s3accessKey,\n",
    "                        aws_secret_access_key=s3secretKey)\n",
    "s3 = session.resource('s3', endpoint_url=s3endpointUrl, verify=False)\n",
    "\n",
    "# DOWNLOAD TRAINING DATA\n",
    "objects = []\n",
    "bucket = s3.Bucket(name=s3objectStoreLocation)\n",
    "FilesNotFound = True\n",
    "for obj in bucket.objects.filter(Prefix=s3Path):\n",
    "   objects.append(obj.key)\n",
    "\n",
    "for key in objects:\n",
    "    obj = s3.Object(s3objectStoreLocation, key)\n",
    "    contents = obj.get()['Body'].read().decode('utf-8')\n",
    "    if contents:\n",
    "        jcontents = json.loads(contents)\n",
    "        with open(fname, 'a') as outfile:\n",
    "            json.dump(jcontents, outfile)\n",
    "            outfile.write('\\n')\n",
    "\n",
    "# TRAIN MODEL\n",
    "print(\"Start Training ...\")\n",
    "cmd = \"python bots/learn-tests --dry \" + fname\n",
    "os.system(cmd)\n",
    "print(\"Training complete!\")\n",
    "\n",
    "# SEARCH FOR TRAINED MODEL IN TEMP DIRECTORY\n",
    "cmd = 'find ' + tmpdir + '/bots/images/ -name tests-learn*.model -printf \"%f\"'\n",
    "model = os.popen(cmd).read()\n",
    "print(\"Found model : \" + model)\n",
    "\n",
    "# UPLOAD TRAINED MODEL TO DESTINATION FOLDER IN S3 BACKEND\n",
    "print(\"Uploading model to: \" + s3Destination)\n",
    "s3.meta.client.upload_file(tmpdir + \"/bots/images/\" + model, \n",
    "                           s3objectStoreLocation, s3Destination)\n",
    "print(\"Model upload to S3 backend Complete!\")\n"
   ]
  },
  {
   "cell_type": "code",
   "execution_count": 17,
   "metadata": {},
   "outputs": [],
   "source": []
  },
  {
   "cell_type": "code",
   "execution_count": null,
   "metadata": {},
   "outputs": [],
   "source": []
  },
  {
   "cell_type": "code",
   "execution_count": null,
   "metadata": {},
   "outputs": [],
   "source": []
  }
 ],
 "metadata": {
  "kernelspec": {
   "display_name": "Python 3",
   "language": "python",
   "name": "python3"
  },
  "language_info": {
   "codemirror_mode": {
    "name": "ipython",
    "version": 3
   },
   "file_extension": ".py",
   "mimetype": "text/x-python",
   "name": "python",
   "nbconvert_exporter": "python",
   "pygments_lexer": "ipython3",
   "version": "3.6.3"
  }
 },
 "nbformat": 4,
 "nbformat_minor": 2
}
