{
 "cells": [
  {
   "cell_type": "code",
   "execution_count": 10,
   "metadata": {},
   "outputs": [],
   "source": [
    "import pandas as pd\n",
    "import json\n",
    "from pandas import DataFrame\n",
    "from sklearn import linear_model\n",
    "import csv\n",
    "import argparse\n",
    "import os\n",
    "from os import listdir\n",
    "from os.path import isfile, join\n",
    "from sklearn.metrics import mean_squared_error\n",
    "from math import sqrt\n",
    "import boto3\n",
    "from sklearn.externals import joblib\n",
    "\n",
    "#Parameters required for S3 access\n",
    "\n",
    "s3accessKey=''\n",
    "s3secretKey=''\n",
    "s3endpointUrl=''\n",
    "s3objectStoreLocation=''\n",
    "trainingdata = \"\"\n",
    "outputmodel=''\n",
    "\n",
    "TRAINING_DATA='data.csv'\n",
    "\n",
    "#Download training data\n",
    "\n",
    "session = boto3.Session(aws_access_key_id=s3accessKey, aws_secret_access_key=s3secretKey)\n",
    "s3 = session.resource('s3', endpoint_url=s3endpointUrl, verify=False)\n",
    "s3.meta.client.download_file(s3objectStoreLocation, trainingdata, TRAINING_DATA)\n",
    "\n",
    "# Read the dependent and independent variables\n",
    "\n",
    "with open(TRAINING_DATA, \"rt\") as f:\n",
    " reader = csv.reader(f)\n",
    " i = next(reader)\n",
    "\n",
    "col = i[:]\n",
    "y_col = i[-1]\n",
    "del i[-1]\n",
    "x_col = i\n",
    "\n",
    "\n",
    "data = pd.read_csv(TRAINING_DATA)\n",
    "df = DataFrame(data,columns=col)\n",
    "X = df[x_col]\n",
    "Y = df[y_col]\n",
    "\n",
    "#Train the model\n",
    "\n",
    "regr = linear_model.LinearRegression()\n",
    "regr.fit(X, Y)\n",
    "\n",
    "#Save the model\n",
    "\n",
    "filename = 'model.pkl'\n",
    "joblib.dump(regr, filename)\n",
    "\n",
    "#Copy trained model to S3 backend\n",
    "\n",
    "s3.meta.client.upload_file(filename, s3objectStoreLocation, outputmodel)"
   ]
  },
  {
   "cell_type": "code",
   "execution_count": 17,
   "metadata": {},
   "outputs": [],
   "source": []
  },
  {
   "cell_type": "code",
   "execution_count": null,
   "metadata": {},
   "outputs": [],
   "source": []
  },
  {
   "cell_type": "code",
   "execution_count": 1,
   "metadata": {},
   "outputs": [],
   "source": []
  },
  {
   "cell_type": "code",
   "execution_count": null,
   "metadata": {},
   "outputs": [],
   "source": []
  }
 ],
 "metadata": {
  "kernelspec": {
   "display_name": "Python 3",
   "language": "python",
   "name": "python3"
  },
  "language_info": {
   "codemirror_mode": {
    "name": "ipython",
    "version": 3
   },
   "file_extension": ".py",
   "mimetype": "text/x-python",
   "name": "python",
   "nbconvert_exporter": "python",
   "pygments_lexer": "ipython3",
   "version": "3.6.3"
  }
 },
 "nbformat": 4,
 "nbformat_minor": 2
}
